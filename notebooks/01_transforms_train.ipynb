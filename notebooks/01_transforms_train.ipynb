{
  "cells": [
    {
      "cell_type": "markdown",
      "metadata": {},
      "source": [
        "# 🎨 Notebook 01: Train Transforms — Data Augmentation Pipeline\n",
        "\n",
        "**Purpose:** Build a robust augmentation pipeline for training data to improve model generalization.\n",
        "\n",
        "**What you'll learn:** How to compose transforms in the correct order, why augmentation matters, and how normalization stabilizes training.\n"
      ]
    },
    {
      "cell_type": "markdown",
      "metadata": {},
      "source": [
        "## 🎯 Concept Primer: Why Data Augmentation?\n",
        "\n",
        "### The Problem: Limited Data\n",
        "- Deep learning models need **thousands** of examples to generalize well\n",
        "- Medical imaging datasets are expensive to label (expert pathologists needed)\n",
        "- Small datasets → **overfitting** (model memorizes training examples)\n",
        "\n",
        "### The Solution: Data Augmentation\n",
        "- Create **synthetic variety** by applying realistic transformations\n",
        "- Horizontal flips, rotations, color jitter → model learns invariant features\n",
        "- **Only applied to training data** (val/test need consistency)\n",
        "\n",
        "### Transform Order Matters!\n",
        "```\n",
        "✅ CORRECT:\n",
        "Resize → Augmentation (Flip, Rotate, ColorJitter) → ToTensor → Normalize\n",
        "\n",
        "❌ WRONG:\n",
        "ToTensor → ColorJitter  (ColorJitter expects PIL images, not tensors!)\n",
        "Normalize → Resize  (Normalize expects [0,1] tensor values)\n",
        "```\n",
        "\n",
        "### Normalization Deep Dive\n",
        "- `ToTensor()` converts PIL image [0,255] → tensor [0,1]\n",
        "- `Normalize(mean=[0.5,0.5,0.5], std=[0.5,0.5,0.5])` converts [0,1] → [-1,1]\n",
        "- **Formula:** `output = (input - mean) / std`\n",
        "- **Why?** Centered data → stable gradients → faster convergence\n"
      ]
    },
    {
      "cell_type": "markdown",
      "metadata": {},
      "source": [
        "## 📚 Learning Objectives\n",
        "\n",
        "By the end of this notebook, you will:\n",
        "\n",
        "1. ✅ Build `train_transform` with `transforms.Compose()`\n",
        "2. ✅ Apply augmentations in the correct order\n",
        "3. ✅ Understand which augmentations are realistic for histopathology\n",
        "4. ✅ Normalize images to stabilize training\n",
        "5. ✅ Verify transform output shape: `[3, 96, 96]`\n"
      ]
    },
    {
      "cell_type": "markdown",
      "metadata": {},
      "source": [
        "## ✅ Acceptance Criteria\n",
        "\n",
        "Your transform pipeline is correct when:\n",
        "\n",
        "- [ ] `train_transform` is a `transforms.Compose` object\n",
        "- [ ] Transforms are in order: Resize → RandomHorizontalFlip → RandomRotation → ColorJitter → ToTensor → Normalize\n",
        "- [ ] Applying transform to a sample image produces a tensor of shape `[3, 96, 96]`\n",
        "- [ ] Tensor values are in range `[-1, 1]` (after normalization)\n",
        "- [ ] You can explain why ColorJitter comes **before** ToTensor\n"
      ]
    },
    {
      "cell_type": "markdown",
      "metadata": {},
      "source": [
        "---\n",
        "\n",
        "## 💻 TODO 1: Import Required Libraries\n",
        "\n",
        "**What you need:**\n",
        "- `torchvision.transforms` for transform classes\n",
        "- `PIL.Image` to test loading a sample image\n",
        "\n",
        "**Expected behavior:** Imports run without errors.\n"
      ]
    },
    {
      "cell_type": "code",
      "execution_count": null,
      "metadata": {},
      "outputs": [],
      "source": [
        "# TODO 1: Import transforms and Image\n",
        "# Hint: from torchvision import transforms\n",
        "# Hint: from PIL import Image\n",
        "\n",
        "# YOUR CODE HERE\n"
      ]
    },
    {
      "cell_type": "markdown",
      "metadata": {},
      "source": [
        "---\n",
        "\n",
        "## 💻 TODO 2: Build the Training Transform Pipeline\n",
        "\n",
        "**What you need to compose (in this order):**\n",
        "\n",
        "1. **`transforms.Resize((96, 96))`** — Ensure all images are 96×96\n",
        "2. **`transforms.RandomHorizontalFlip(p=0.5)`** — Flip left-right 50% of the time\n",
        "3. **`transforms.RandomRotation(degrees=15)`** — Rotate ±15° randomly\n",
        "4. **`transforms.ColorJitter(brightness=0.2, contrast=0.2)`** — Vary brightness/contrast\n",
        "5. **`transforms.ToTensor()`** — Convert PIL image → tensor [0,1]\n",
        "6. **`transforms.Normalize(mean=[0.5, 0.5, 0.5], std=[0.5, 0.5, 0.5])`** — Normalize to [-1,1]\n",
        "\n",
        "**Expected output:** A `transforms.Compose` object stored in `train_transform`.\n"
      ]
    },
    {
      "cell_type": "code",
      "execution_count": null,
      "metadata": {},
      "outputs": [],
      "source": [
        "# TODO 2: Create train_transform using transforms.Compose()\n",
        "# Hint: train_transform = transforms.Compose([...])\n",
        "# Hint: List the 6 transforms above in the correct order\n",
        "\n",
        "# YOUR CODE HERE\n",
        "train_transform = None  # Replace this line\n",
        "\n",
        "print(\"✅ train_transform created:\")\n",
        "print(train_transform)\n"
      ]
    },
    {
      "cell_type": "markdown",
      "metadata": {},
      "source": [
        "---\n",
        "\n",
        "## 💻 TODO 3: Test the Transform on a Sample Image\n",
        "\n",
        "**What you need to do:**\n",
        "1. Load a sample image from `../data/pcam_images/` (pick any `.png` file)\n",
        "2. Apply `train_transform` to the image\n",
        "3. Print the shape of the resulting tensor\n",
        "\n",
        "**Expected output:**\n",
        "```\n",
        "Original image: PIL Image object\n",
        "Transformed tensor shape: torch.Size([3, 96, 96])\n",
        "Tensor value range: approximately [-1, 1]\n",
        "```\n"
      ]
    },
    {
      "cell_type": "code",
      "execution_count": null,
      "metadata": {},
      "outputs": [],
      "source": [
        "# TODO 3: Test transform on a sample image\n",
        "# Hint: sample_img = Image.open('../data/pcam_images/SOME_FILE.png')\n",
        "# Hint: transformed = train_transform(sample_img)\n",
        "# Hint: print(transformed.shape)\n",
        "\n",
        "import os\n",
        "\n",
        "# Get a sample image path\n",
        "sample_images = os.listdir('../data/pcam_images/')\n",
        "sample_path = os.path.join('../data/pcam_images/', sample_images[0])\n",
        "\n",
        "# YOUR CODE HERE\n",
        "# Load the image\n",
        "# Apply train_transform\n",
        "# Print the shape and value range\n",
        "\n",
        "print(f\"✅ Sample image path: {sample_path}\")\n",
        "# YOUR PRINTS HERE\n"
      ]
    },
    {
      "cell_type": "markdown",
      "metadata": {},
      "source": [
        "---\n",
        "\n",
        "## 🤔 Reflection Prompts\n",
        "\n",
        "### Question 1: Realistic Augmentations for Histopathology\n",
        "Which of the following augmentations are **realistic** for H&E-stained pathology slides, and which might **distort clinically relevant information**?\n",
        "\n",
        "| Augmentation | Realistic? | Reasoning |\n",
        "|--------------|------------|-----------|\n",
        "| RandomHorizontalFlip | ✅ / ❌ | ? |\n",
        "| RandomVerticalFlip | ✅ / ❌ | ? |\n",
        "| RandomRotation(±15°) | ✅ / ❌ | ? |\n",
        "| RandomRotation(±180°) | ✅ / ❌ | ? |\n",
        "| ColorJitter(brightness=0.2) | ✅ / ❌ | ? |\n",
        "| ColorJitter(hue=0.5) | ✅ / ❌ | ? |\n",
        "| RandomGrayscale | ✅ / ❌ | ? |\n",
        "\n",
        "**Your analysis:**\n",
        "\n",
        "---\n",
        "\n",
        "### Question 2: Why Not Augment Validation/Test Data?\n",
        "Explain in your own words:\n",
        "- Why do we apply augmentation to training data?\n",
        "- Why would augmentation **break** validation/test evaluation?\n",
        "\n",
        "**Your explanation:**\n",
        "\n",
        "---\n",
        "\n",
        "### Question 3: Normalization Intuition\n",
        "Given:\n",
        "- `ToTensor()` converts RGB [0,255] → [0,1]\n",
        "- `Normalize(mean=[0.5]*3, std=[0.5]*3)` converts [0,1] → [-1,1]\n",
        "\n",
        "Calculate:\n",
        "- If a pixel value is `0.8` after `ToTensor()`, what is it after `Normalize`?\n",
        "- **Formula:** `(input - mean) / std`\n",
        "\n",
        "**Your calculation:**\n",
        "\n",
        "---\n"
      ]
    },
    {
      "cell_type": "markdown",
      "metadata": {},
      "source": [
        "## 🚀 Next Steps\n",
        "\n",
        "Great work! You've built a training transform pipeline with augmentation.\n",
        "\n",
        "**Move to Notebook 02:** Train Dataset & DataLoader\n",
        "\n",
        "**Key Takeaway:** Transform order matters — Resize/Aug → ToTensor → Normalize!\n"
      ]
    }
  ],
  "metadata": {
    "language_info": {
      "name": "python"
    }
  },
  "nbformat": 4,
  "nbformat_minor": 2
}
