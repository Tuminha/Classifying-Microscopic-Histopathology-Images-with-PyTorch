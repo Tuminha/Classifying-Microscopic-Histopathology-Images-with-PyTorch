{
  "cells": [
    {
      "cell_type": "markdown",
      "metadata": {},
      "source": [
        "# 🧪 Notebook 03: Val/Test Transforms — No Augmentation\n",
        "\n",
        "**Purpose:** Build a deterministic transform pipeline for validation and test data (no random augmentations).\n",
        "\n",
        "**What you'll learn:** Why evaluation needs consistency, and how to ensure reproducible metrics.\n"
      ]
    },
    {
      "cell_type": "markdown",
      "metadata": {},
      "source": [
        "## 🎯 Concept Primer: Why NO Augmentation for Val/Test?\n",
        "\n",
        "### Training vs Evaluation: Different Goals\n",
        "\n",
        "**Training:**\n",
        "- Goal: Learn robust features that generalize\n",
        "- Strategy: Augment data to create synthetic variety\n",
        "- Random transforms: Flip, rotate, color jitter\n",
        "\n",
        "**Validation/Test:**\n",
        "- Goal: Measure performance consistently\n",
        "- Strategy: Apply only deterministic transforms\n",
        "- No randomness: Same image → same output every time\n",
        "\n",
        "### What Breaks Without This Rule?\n",
        "\n",
        "Imagine if validation used random augmentations:\n",
        "\n",
        "```python\n",
        "# Run 1: Validation accuracy = 85%\n",
        "# Run 2: Validation accuracy = 82%\n",
        "# Run 3: Validation accuracy = 87%\n",
        "```\n",
        "\n",
        "**Problem:** You can't trust the metrics! Accuracy changes due to randomness, not model improvement.\n",
        "\n",
        "### val_test_transform Pipeline\n",
        "\n",
        "```\n",
        "✅ CORRECT (Deterministic):\n",
        "Resize(96,96) → ToTensor() → Normalize(mean=[0.5]*3, std=[0.5]*3)\n",
        "\n",
        "❌ WRONG (Has randomness):\n",
        "Resize → RandomHorizontalFlip → ToTensor → Normalize\n",
        "```\n",
        "\n",
        "**Key rule:** Normalization parameters **must match training** exactly.\n"
      ]
    },
    {
      "cell_type": "markdown",
      "metadata": {},
      "source": [
        "## 📚 Learning Objectives\n",
        "\n",
        "By the end of this notebook, you will:\n",
        "\n",
        "1. ✅ Build `val_test_transform` with **only** deterministic transforms\n",
        "2. ✅ Use the **same** normalization as training (mean=std=0.5)\n",
        "3. ✅ Test transform on a sample image\n",
        "4. ✅ Verify output shape: `[3, 96, 96]`\n",
        "5. ✅ Understand why evaluation metrics require consistency\n"
      ]
    },
    {
      "cell_type": "markdown",
      "metadata": {},
      "source": [
        "## ✅ Acceptance Criteria\n",
        "\n",
        "Your val/test transform is correct when:\n",
        "\n",
        "- [ ] `val_test_transform` is a `transforms.Compose` object\n",
        "- [ ] It contains **only**: Resize, ToTensor, Normalize (no Random* transforms)\n",
        "- [ ] Normalization uses `mean=[0.5, 0.5, 0.5], std=[0.5, 0.5, 0.5]` (matching training)\n",
        "- [ ] Applying transform produces shape `[3, 96, 96]`\n",
        "- [ ] Running transform twice on the **same image** produces **identical** tensors\n"
      ]
    },
    {
      "cell_type": "markdown",
      "metadata": {},
      "source": [
        "---\n",
        "\n",
        "## 💻 TODO 1: Import Required Libraries\n",
        "\n",
        "**What you need:**\n",
        "- `torchvision.transforms`\n",
        "- `PIL.Image`\n",
        "- `torch` (to test tensor equality)\n",
        "\n",
        "**Expected behavior:** Imports run without errors.\n"
      ]
    },
    {
      "cell_type": "code",
      "execution_count": null,
      "metadata": {},
      "outputs": [],
      "source": [
        "# TODO 1: Import libraries\n",
        "# Hint: from torchvision import transforms\n",
        "# Hint: from PIL import Image\n",
        "# Hint: import torch\n",
        "\n",
        "# YOUR CODE HERE\n",
        "\n",
        "print(\"✅ Imports successful\")\n"
      ]
    },
    {
      "cell_type": "markdown",
      "metadata": {},
      "source": [
        "---\n",
        "\n",
        "## 💻 TODO 2: Build val_test_transform (Deterministic Only!)\n",
        "\n",
        "**What you need to compose (in this order):**\n",
        "\n",
        "1. **`transforms.Resize((96, 96))`** — Ensure all images are 96×96\n",
        "2. **`transforms.ToTensor()`** — Convert PIL image → tensor [0,1]\n",
        "3. **`transforms.Normalize(mean=[0.5, 0.5, 0.5], std=[0.5, 0.5, 0.5])`** — Normalize to [-1,1]\n",
        "\n",
        "**❗ DO NOT INCLUDE:**\n",
        "- ❌ RandomHorizontalFlip\n",
        "- ❌ RandomRotation\n",
        "- ❌ ColorJitter\n",
        "- ❌ Any Random* transforms\n",
        "\n",
        "**Expected output:** A `transforms.Compose` object stored in `val_test_transform`.\n"
      ]
    },
    {
      "cell_type": "code",
      "execution_count": null,
      "metadata": {},
      "outputs": [],
      "source": [
        "# TODO 2: Create val_test_transform (only deterministic transforms!)\n",
        "# Hint: val_test_transform = transforms.Compose([...])\n",
        "# Hint: Only include Resize, ToTensor, Normalize\n",
        "\n",
        "# YOUR CODE HERE\n",
        "val_test_transform = None  # Replace this line\n",
        "\n",
        "print(\"✅ val_test_transform created:\")\n",
        "print(val_test_transform)\n"
      ]
    },
    {
      "cell_type": "markdown",
      "metadata": {},
      "source": [
        "---\n",
        "\n",
        "## 💻 TODO 3: Verify Determinism — Apply Transform Twice\n",
        "\n",
        "**What you need to do:**\n",
        "1. Load a sample image from `../data/pcam_images/`\n",
        "2. Apply `val_test_transform` **twice** to the same image\n",
        "3. Check if the two tensors are **exactly equal** using `torch.equal()`\n",
        "\n",
        "**Expected output:**\n",
        "```\n",
        "✅ Transform applied twice\n",
        "   Tensor shapes match: True\n",
        "   Tensors are identical: True  (Deterministic!)\n",
        "```\n",
        "\n",
        "If `torch.equal()` returns `False`, you accidentally included a random transform!\n"
      ]
    },
    {
      "cell_type": "code",
      "execution_count": null,
      "metadata": {},
      "outputs": [],
      "source": [
        "# TODO 3: Test determinism by applying transform twice\n",
        "# Hint: sample_img = Image.open('...')\n",
        "# Hint: transformed_1 = val_test_transform(sample_img)\n",
        "# Hint: transformed_2 = val_test_transform(sample_img)\n",
        "# Hint: torch.equal(transformed_1, transformed_2)\n",
        "\n",
        "import os\n",
        "\n",
        "sample_images = os.listdir('../data/pcam_images/')\n",
        "sample_path = os.path.join('../data/pcam_images/', sample_images[0])\n",
        "\n",
        "# YOUR CODE HERE\n",
        "# Load image, apply transform twice, check equality\n",
        "\n",
        "print(\"✅ Transform applied twice\")\n",
        "# Print shape and torch.equal() result\n"
      ]
    },
    {
      "cell_type": "markdown",
      "metadata": {},
      "source": [
        "---\n",
        "\n",
        "## 🤔 Reflection Prompts\n",
        "\n",
        "### Question 1: What Breaks If Val/Test Had Random Augmentation?\n",
        "\n",
        "Imagine you're training a model and checking validation accuracy every epoch:\n",
        "\n",
        "**Scenario A: val_test_transform includes RandomHorizontalFlip**\n",
        "\n",
        "| Epoch | Val Accuracy |\n",
        "|-------|--------------|\n",
        "| 1 | 78% |\n",
        "| 2 | 82% |\n",
        "| 3 | 79% |\n",
        "| 4 | 85% |\n",
        "| 5 | 80% |\n",
        "\n",
        "**Questions:**\n",
        "- Did the model improve from Epoch 2 → 3?\n",
        "- Can you trust Epoch 4's 85% to select the best model?\n",
        "- What causes the fluctuations?\n",
        "\n",
        "**Your analysis:**\n",
        "\n",
        "---\n",
        "\n",
        "### Question 2: Why Must Normalization Match Training?\n",
        "\n",
        "Consider this **incorrect** setup:\n",
        "```python\n",
        "# Training\n",
        "train_transform = Normalize(mean=[0.5]*3, std=[0.5]*3)  # [-1,1]\n",
        "\n",
        "# Val/Test (WRONG!)\n",
        "val_test_transform = Normalize(mean=[0.485, 0.456, 0.406], \n",
        "                                std=[0.229, 0.224, 0.225])  # ImageNet stats\n",
        "```\n",
        "\n",
        "**Question:** What happens when the model trained on [-1,1] data receives ImageNet-normalized inputs?\n",
        "\n",
        "**Your explanation:**\n",
        "\n",
        "---\n",
        "\n",
        "### Question 3: Deterministic vs Reproducible\n",
        "\n",
        "**Deterministic:** Same input → same output (no randomness)\n",
        "**Reproducible:** Same code → same result (controlled random seed)\n",
        "\n",
        "Which matters more for validation/test transforms? Why?\n",
        "\n",
        "**Your answer:**\n",
        "\n",
        "---\n"
      ]
    },
    {
      "cell_type": "markdown",
      "metadata": {},
      "source": [
        "## 🚀 Next Steps\n",
        "\n",
        "Perfect! You've built a deterministic transform for evaluation.\n",
        "\n",
        "**Move to Notebook 04:** Load Val/Test DataLoaders\n",
        "\n",
        "**Key Takeaway:** Evaluation = Deterministic + No Shuffle!\n"
      ]
    }
  ],
  "metadata": {
    "language_info": {
      "name": "python"
    }
  },
  "nbformat": 4,
  "nbformat_minor": 2
}
