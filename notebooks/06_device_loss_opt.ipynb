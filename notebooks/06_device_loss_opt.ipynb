{
  "cells": [
    {
      "cell_type": "markdown",
      "metadata": {},
      "source": [
        "# ⚙️ Notebook 06: Device, Loss, and Optimizer\n",
        "\n",
        "**Purpose:** Set up GPU/CPU device, loss function, and optimizer for training.\n",
        "\n",
        "**What you'll learn:** How to move models to GPU, choose appropriate loss functions, and configure optimizers.\n"
      ]
    },
    {
      "cell_type": "markdown",
      "metadata": {},
      "source": [
        "## 🎯 Concept Primer: Training Components\n",
        "\n",
        "### Device (GPU vs CPU)\n",
        "- **CPU:** Universal, slower for deep learning\n",
        "- **GPU (CUDA):** Parallel processing → 10-100x faster\n",
        "- **Check:** `torch.cuda.is_available()`\n",
        "- **Move model:** `model.to(device)`\n",
        "- **Move data:** `images.to(device)`, `labels.to(device)`\n",
        "\n",
        "### Loss Function: Binary Cross-Entropy (BCE)\n",
        "- **Formula:** `-[y * log(ŷ) + (1-y) * log(1-ŷ)]`\n",
        "- **PyTorch:** `nn.BCELoss()` expects probabilities [0,1]\n",
        "- **Alternative:** `nn.BCEWithLogitsLoss()` (more stable)\n",
        "\n",
        "### Optimizer: Adam\n",
        "- **Algorithm:** Adaptive learning rate\n",
        "- **Learning Rate:** `lr=5e-4` (0.0005) is safe\n",
        "- **Too high:** Loss explodes\n",
        "- **Too low:** Training very slow\n"
      ]
    },
    {
      "cell_type": "markdown",
      "metadata": {},
      "source": [
        "## 📚 Learning Objectives\n",
        "\n",
        "1. ✅ Check GPU availability and create `device`\n",
        "2. ✅ Move `cnn_model` to device\n",
        "3. ✅ Instantiate `BCELoss` as `criterion`\n",
        "4. ✅ Create `Adam` optimizer with `lr=5e-4`\n",
        "5. ✅ Verify model parameters are on correct device\n"
      ]
    },
    {
      "cell_type": "markdown",
      "metadata": {},
      "source": [
        "## ✅ Acceptance Criteria\n",
        "\n",
        "- [ ] `device` is `'cuda'` or `'cpu'`\n",
        "- [ ] `cnn_model` moved to device\n",
        "- [ ] `criterion = nn.BCELoss()`\n",
        "- [ ] `optimizer = torch.optim.Adam(cnn_model.parameters(), lr=5e-4)`\n",
        "- [ ] Parameter `.device` confirms correct device\n"
      ]
    },
    {
      "cell_type": "markdown",
      "metadata": {},
      "source": [
        "---\n",
        "\n",
        "## 💻 TODO 1: Import Libraries & Rebuild Model\n"
      ]
    },
    {
      "cell_type": "code",
      "execution_count": null,
      "metadata": {},
      "outputs": [],
      "source": [
        "# TODO 1: Import PyTorch and rebuild SimpleCNN\n",
        "# Hint: import torch, torch.nn as nn\n",
        "# Hint: Copy SimpleCNN class from Notebook 05\n",
        "\n",
        "# YOUR CODE HERE\n",
        "\n",
        "cnn_model = None  # Replace with SimpleCNN()\n",
        "print(\"✅ Model instantiated\")\n"
      ]
    },
    {
      "cell_type": "markdown",
      "metadata": {},
      "source": [
        "---\n",
        "\n",
        "## 💻 TODO 2: Setup Device & Move Model\n"
      ]
    },
    {
      "cell_type": "code",
      "execution_count": null,
      "metadata": {},
      "outputs": [],
      "source": [
        "# TODO 2: Create device and move model\n",
        "# Hint: device = torch.device('cuda' if torch.cuda.is_available() else 'cpu')\n",
        "# Hint: cnn_model.to(device)\n",
        "\n",
        "# YOUR CODE HERE\n",
        "device = None\n",
        "\n",
        "print(f\"✅ Using device: {device}\")\n",
        "print(f\"   First parameter device: {next(cnn_model.parameters()).device}\")\n"
      ]
    },
    {
      "cell_type": "markdown",
      "metadata": {},
      "source": [
        "---\n",
        "\n",
        "## 💻 TODO 3: Create Loss Function & Optimizer\n"
      ]
    },
    {
      "cell_type": "code",
      "execution_count": null,
      "metadata": {},
      "outputs": [],
      "source": [
        "# TODO 3: Create criterion and optimizer\n",
        "# Hint: criterion = nn.BCELoss()\n",
        "# Hint: optimizer = torch.optim.Adam(cnn_model.parameters(), lr=5e-4)\n",
        "\n",
        "# YOUR CODE HERE\n",
        "criterion = None\n",
        "optimizer = None\n",
        "\n",
        "print(\"✅ Loss function:\", criterion)\n",
        "print(\"✅ Optimizer:\", optimizer)\n"
      ]
    },
    {
      "cell_type": "markdown",
      "metadata": {},
      "source": [
        "---\n",
        "\n",
        "## 🤔 Reflection Prompts\n",
        "\n",
        "### Question 1: Device Mismatch Error\n",
        "What error occurs if model is on GPU but data is on CPU?\n",
        "\n",
        "**Your answer:**\n",
        "\n",
        "---\n",
        "\n",
        "### Question 2: BCELoss vs BCEWithLogitsLoss\n",
        "Why is BCEWithLogitsLoss more numerically stable?\n",
        "\n",
        "**Your answer:**\n",
        "\n",
        "---\n",
        "\n",
        "### Question 3: Learning Rate Impact\n",
        "Predict behavior for lr=1e-6, lr=5e-4, lr=1e-1.\n",
        "\n",
        "**Your predictions:**\n",
        "\n",
        "---\n"
      ]
    },
    {
      "cell_type": "markdown",
      "metadata": {},
      "source": [
        "## 🚀 Next Steps\n",
        "\n",
        "**Move to Notebook 07:** Training & Validation Loops\n",
        "\n",
        "**Key Takeaway:** Device + Criterion + Optimizer = Ready to Train!\n"
      ]
    }
  ],
  "metadata": {
    "language_info": {
      "name": "python"
    }
  },
  "nbformat": 4,
  "nbformat_minor": 2
}
