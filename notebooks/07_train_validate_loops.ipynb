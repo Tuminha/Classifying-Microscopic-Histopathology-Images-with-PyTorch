{
  "cells": [
    {
      "cell_type": "markdown",
      "metadata": {},
      "source": [
        "# 🔁 Notebook 07: Training & Validation Loops\n",
        "\n",
        "**Purpose:** Implement the core training loop to train the CNN for 5 epochs, with validation after each epoch.\n",
        "\n",
        "**What you'll learn:** How to structure training (forward→backward→step) and validation (eval mode + no_grad), track losses, and monitor overfitting.\n"
      ]
    },
    {
      "cell_type": "markdown",
      "metadata": {},
      "source": [
        "## 🎯 Concept Primer: Training vs Validation\n",
        "\n",
        "### Training Loop Structure\n",
        "```python\n",
        "for epoch in range(num_epochs):\n",
        "    # TRAINING\n",
        "    model.train()  # Enable dropout, batchnorm training mode\n",
        "    for images, labels in train_dataloader:\n",
        "        images, labels = images.to(device), labels.to(device)\n",
        "        \n",
        "        optimizer.zero_grad()  # Clear old gradients\n",
        "        outputs = model(images)  # Forward pass\n",
        "        loss = criterion(outputs, labels.float())  # Compute loss\n",
        "        loss.backward()  # Compute gradients\n",
        "        optimizer.step()  # Update weights\n",
        "    \n",
        "    # VALIDATION\n",
        "    model.eval()  # Disable dropout, batchnorm eval mode\n",
        "    with torch.no_grad():  # Disable gradient tracking\n",
        "        for images, labels in val_dataloader:\n",
        "            images, labels = images.to(device), labels.to(device)\n",
        "            outputs = model(images)\n",
        "            loss = criterion(outputs, labels.float())\n",
        "```\n",
        "\n",
        "### Key Differences\n",
        "\n",
        "| Step | Training | Validation |\n",
        "|------|----------|------------|\n",
        "| **Mode** | `model.train()` | `model.eval()` |\n",
        "| **Gradients** | Tracked | `torch.no_grad()` |\n",
        "| **Zero Grad** | ✅ Required | ❌ Not needed |\n",
        "| **Backward** | ✅ `loss.backward()` | ❌ No backprop |\n",
        "| **Optimizer** | ✅ `optimizer.step()` | ❌ No updates |\n",
        "\n",
        "### Why labels.float()?\n",
        "- BCELoss expects `float` type\n",
        "- DataLoader might return labels as `long` (int64)\n",
        "- Convert: `labels.float()`\n"
      ]
    },
    {
      "cell_type": "markdown",
      "metadata": {},
      "source": [
        "## 📚 Learning Objectives\n",
        "\n",
        "1. ✅ Create empty lists `train_losses` and `val_losses`\n",
        "2. ✅ Set `num_epochs = 5`\n",
        "3. ✅ Implement training loop: set mode, zero grad, forward, loss, backward, step\n",
        "4. ✅ Implement validation loop: set mode, no_grad, forward, accumulate loss\n",
        "5. ✅ Print train/val loss per epoch\n",
        "6. ✅ Observe if validation loss tracks training loss\n"
      ]
    },
    {
      "cell_type": "markdown",
      "metadata": {},
      "source": [
        "## ✅ Acceptance Criteria\n",
        "\n",
        "- [ ] Training loop completes 5 epochs without errors\n",
        "- [ ] `train_losses` and `val_losses` lists contain 5 values each\n",
        "- [ ] Both losses decrease over epochs\n",
        "- [ ] Each epoch prints: `Epoch [X/5] - Train Loss: Y.YYY - Val Loss: Z.ZZZ`\n",
        "- [ ] Validation loss is computed WITHOUT gradients (`torch.no_grad()`)\n"
      ]
    },
    {
      "cell_type": "markdown",
      "metadata": {},
      "source": [
        "---\n",
        "\n",
        "## 💻 TODO 1: Import & Rebuild Everything\n",
        "\n",
        "**Rebuild from previous notebooks:**\n",
        "- SimpleCNN, device, criterion, optimizer\n",
        "- train_dataloader, val_dataloader\n"
      ]
    },
    {
      "cell_type": "code",
      "execution_count": null,
      "metadata": {},
      "outputs": [],
      "source": [
        "# TODO 1: Import and rebuild all components\n",
        "# Hint: You need torch, nn, transforms, DataLoader, PCamDataset\n",
        "# Hint: Rebuild transforms, datasets, loaders, model, device, criterion, optimizer\n",
        "\n",
        "# YOUR CODE HERE\n",
        "\n",
        "print(\"✅ All components ready for training\")\n"
      ]
    },
    {
      "cell_type": "markdown",
      "metadata": {},
      "source": [
        "---\n",
        "\n",
        "## 💻 TODO 2: Initialize Loss Tracking & Epochs\n"
      ]
    },
    {
      "cell_type": "code",
      "execution_count": null,
      "metadata": {},
      "outputs": [],
      "source": [
        "# TODO 2: Create empty lists and set num_epochs\n",
        "# Hint: train_losses = []\n",
        "# Hint: val_losses = []\n",
        "# Hint: num_epochs = 5\n",
        "\n",
        "# YOUR CODE HERE\n",
        "train_losses = []\n",
        "val_losses = []\n",
        "num_epochs = 5\n",
        "\n",
        "print(f\"✅ Ready to train for {num_epochs} epochs\")\n"
      ]
    },
    {
      "cell_type": "markdown",
      "metadata": {},
      "source": [
        "---\n",
        "\n",
        "## 💻 TODO 3: Implement Training Loop (Epoch + Training Phase)\n",
        "\n",
        "**Structure:**\n",
        "```python\n",
        "for epoch in range(num_epochs):\n",
        "    # TRAINING PHASE\n",
        "    cnn_model.train()\n",
        "    total_train_loss = 0.0\n",
        "    \n",
        "    for images, labels in train_dataloader:\n",
        "        # Move to device\n",
        "        # Zero gradients\n",
        "        # Forward pass\n",
        "        # Compute loss (remember labels.float()!)\n",
        "        # Backward pass\n",
        "        # Optimizer step\n",
        "        # Accumulate loss: total_train_loss += loss.item()\n",
        "    \n",
        "    avg_train_loss = total_train_loss / len(train_dataloader)\n",
        "    train_losses.append(avg_train_loss)\n",
        "```\n"
      ]
    },
    {
      "cell_type": "code",
      "execution_count": null,
      "metadata": {},
      "outputs": [],
      "source": [
        "# TODO 3: Implement the full training + validation loop\n",
        "# This is a single code cell that does both training and validation\n",
        "\n",
        "# YOUR CODE HERE\n",
        "# for epoch in range(num_epochs):\n",
        "#     # TRAINING\n",
        "#     cnn_model.train()\n",
        "#     total_train_loss = 0.0\n",
        "#     for images, labels in train_dataloader:\n",
        "#         # TODO: Move to device, zero grad, forward, loss, backward, step\n",
        "#         pass\n",
        "#     \n",
        "#     # VALIDATION\n",
        "#     cnn_model.eval()\n",
        "#     total_val_loss = 0.0\n",
        "#     with torch.no_grad():\n",
        "#         for images, labels in val_dataloader:\n",
        "#             # TODO: Move to device, forward, accumulate loss\n",
        "#             pass\n",
        "#     \n",
        "#     # Print epoch results\n",
        "#     print(f\"Epoch [{epoch+1}/{num_epochs}] - Train: {avg_train_loss:.4f} - Val: {avg_val_loss:.4f}\")\n",
        "\n",
        "print(\"✅ Training complete!\")\n"
      ]
    },
    {
      "cell_type": "markdown",
      "metadata": {},
      "source": [
        "---\n",
        "\n",
        "## 💻 TODO 4: Plot Loss Curves (Optional Visualization)\n"
      ]
    },
    {
      "cell_type": "code",
      "execution_count": null,
      "metadata": {},
      "outputs": [],
      "source": [
        "# TODO 4 (Optional): Plot train and val losses\n",
        "# Hint: import matplotlib.pyplot as plt\n",
        "# Hint: plt.plot(train_losses, label='Train Loss')\n",
        "# Hint: plt.plot(val_losses, label='Val Loss')\n",
        "\n",
        "# YOUR CODE HERE (Optional)\n",
        "\n",
        "print(\"✅ Loss curves plotted (if implemented)\")\n"
      ]
    },
    {
      "cell_type": "markdown",
      "metadata": {},
      "source": [
        "---\n",
        "\n",
        "## 🤔 Reflection Prompts\n",
        "\n",
        "### Question 1: Overfitting Detection\n",
        "Look at your final losses:\n",
        "- Train Loss: X.XX\n",
        "- Val Loss: Y.YY\n",
        "\n",
        "**Scenarios:**\n",
        "- **Scenario A:** Train=0.15, Val=0.17 (close)\n",
        "- **Scenario B:** Train=0.08, Val=0.25 (large gap)\n",
        "\n",
        "Which scenario shows overfitting? Why?\n",
        "\n",
        "**Your analysis:**\n",
        "\n",
        "---\n",
        "\n",
        "### Question 2: What If You Forgot model.train()?\n",
        "What would happen if you skipped `cnn_model.train()` at the start of each epoch?\n",
        "\n",
        "**Your answer:**\n",
        "\n",
        "---\n",
        "\n",
        "### Question 3: Why torch.no_grad() for Validation?\n",
        "Memory saved by disabling gradients during validation.\n",
        "\n",
        "**Question:** If validation loop had 10 batches, roughly how much memory is saved?\n",
        "\n",
        "**Your intuition:**\n",
        "\n",
        "---\n"
      ]
    },
    {
      "cell_type": "markdown",
      "metadata": {},
      "source": [
        "## 🚀 Next Steps\n",
        "\n",
        "Congratulations! Your model is trained.\n",
        "\n",
        "**Move to Notebook 08:** Test Inference & Classification Report\n",
        "\n",
        "**Key Takeaway:** Train mode + gradients + backprop vs Eval mode + no_grad!\n"
      ]
    }
  ],
  "metadata": {
    "language_info": {
      "name": "python"
    }
  },
  "nbformat": 4,
  "nbformat_minor": 2
}
